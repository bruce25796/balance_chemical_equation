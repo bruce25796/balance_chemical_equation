{
 "cells": [
  {
   "cell_type": "code",
   "execution_count": 2,
   "metadata": {},
   "outputs": [
    {
     "name": "stdout",
     "output_type": "stream",
     "text": [
      "Enter tolerable error: 0.001\n",
      "\n",
      "Iter. \tx1\tx2\tx3\tx4\n",
      "\n",
      "0\t1.9438\t0.7841\t0.3735\t0.8610\n",
      "\n",
      "1\t0.4305\t0.8040\t0.4305\t1.0000\n",
      "\n",
      "2\t0.5000\t0.9305\t0.5000\t1.0000\n",
      "\n",
      "3\t0.5000\t1.0000\t0.5000\t1.0000\n",
      "\n",
      "4\t0.5000\t1.0000\t0.5000\t1.0000\n",
      "\n",
      "\n",
      "Solution: x1=0.500, x2=1.000, x3=0.500 and x4=1.000   \n",
      "\n"
     ]
    }
   ],
   "source": [
    "\n",
    "# Gauss Seidel Iteration\n",
    "import random\n",
    "# Defining equations to be solved\n",
    "# in diagonally dominant form\n",
    "f1 = lambda x,y,z,u: 0.5*u           \n",
    "f2 = lambda x,y,z,u: z+0.5*u    \n",
    "f3 = lambda x,y,z,u: x          \n",
    "f4 = lambda x,y,z,u: 1.0\n",
    "\n",
    "# Initial setup\n",
    "x0 = random.uniform(0.0, 2.0) # Integer from 0 to 2 inclusive\n",
    "y0 = random.uniform(0.0, 2.0)\n",
    "z0 = random.uniform(0.0, 2.0)\n",
    "u0 = random.uniform(0.8, 0.9) #\n",
    "\n",
    "count = 0\n",
    "\n",
    "# Reading tolerable error\n",
    "e = float(input('Enter tolerable error: '))\n",
    "\n",
    "# Implementation of Gauss Seidel Iteration\n",
    "print('\\nIter. \\tx1\\tx2\\tx3\\tx4\\n')\n",
    "\n",
    "print('%d\\t%0.4f\\t%0.4f\\t%0.4f\\t%0.4f\\n' %(count, x0,y0,z0,u0))\n",
    "\n",
    "count = count + 1\n",
    "condition = True\n",
    "\n",
    "while condition:\n",
    "    x1 = f1(x0,y0,z0,u0)\n",
    "    y1 = f2(x1,y0,z0,u0)\n",
    "    z1 = f3(x1,y1,z0,u0)\n",
    "    u1 = f4(x1,y1,z1,u0)\n",
    "    print('%d\\t%0.4f\\t%0.4f\\t%0.4f\\t%0.4f\\n' %(count, x1,y1,z1,u1))\n",
    "    e1 = abs(x0-x1);\n",
    "    e2 = abs(y0-y1);\n",
    "    e3 = abs(z0-z1);\n",
    "    e4 = abs(u0-u1);\n",
    " \n",
    "    \n",
    "    count += 1\n",
    "    x0 = x1\n",
    "    y0 = y1\n",
    "    z0 = z1\n",
    "    u0 = u1\n",
    "\n",
    "    \n",
    "    condition = e1>e or e2>e or e3>e or e4>e\n",
    "\n",
    "print('\\nSolution: x1=%0.3f, x2=%0.3f, x3=%0.3f and x4=%0.3f   \\n'% (x1,y1,z1,u1))\n"
   ]
  },
  {
   "cell_type": "code",
   "execution_count": 14,
   "metadata": {},
   "outputs": [
    {
     "name": "stdout",
     "output_type": "stream",
     "text": [
      "\n",
      "Solution: x1=1.000, x2=2.000, x3=1.000 and x4=2.000   \n",
      "\n"
     ]
    }
   ],
   "source": [
    "print('\\nSolution: x1=%0.3f, x2=%0.3f, x3=%0.3f and x4=%0.3f   \\n'% (x1/x1,y1/x1,z1/x1,u1/x1))\n"
   ]
  },
  {
   "cell_type": "code",
   "execution_count": null,
   "metadata": {},
   "outputs": [],
   "source": []
  }
 ],
 "metadata": {
  "kernelspec": {
   "display_name": "Python 3",
   "language": "python",
   "name": "python3"
  },
  "language_info": {
   "codemirror_mode": {
    "name": "ipython",
    "version": 3
   },
   "file_extension": ".py",
   "mimetype": "text/x-python",
   "name": "python",
   "nbconvert_exporter": "python",
   "pygments_lexer": "ipython3",
   "version": "3.7.9"
  }
 },
 "nbformat": 4,
 "nbformat_minor": 5
}
