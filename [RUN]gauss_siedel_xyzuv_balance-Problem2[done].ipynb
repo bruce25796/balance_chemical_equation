{
 "cells": [
  {
   "cell_type": "code",
   "execution_count": 2,
   "metadata": {
    "scrolled": true
   },
   "outputs": [
    {
     "name": "stdout",
     "output_type": "stream",
     "text": [
      "Enter tolerable error: 0.001\n",
      "\n",
      "Iter. \tx1\tx2\tx3\tx4\tx5\n",
      "\n",
      "0\t1.3563\t0.5989\t0.3696\t0.8784\t0.8027\n",
      "\n",
      "1\t0.3696\t0.1848\t-0.2987\t0.1848\t0.1848\n",
      "\n",
      "2\t-0.2987\t-0.1494\t-0.6329\t-0.1494\t-0.1494\n",
      "\n",
      "3\t-0.6329\t-0.3164\t-0.8000\t-0.3164\t-0.3164\n",
      "\n",
      "4\t-0.8000\t-0.4000\t-0.8835\t-0.4000\t-0.4000\n",
      "\n",
      "5\t-0.8835\t-0.4418\t-0.9253\t-0.4418\t-0.4418\n",
      "\n",
      "6\t-0.9253\t-0.4626\t-0.9462\t-0.4626\t-0.4626\n",
      "\n",
      "7\t-0.9462\t-0.4731\t-0.9566\t-0.4731\t-0.4731\n",
      "\n",
      "8\t-0.9566\t-0.4783\t-0.9618\t-0.4783\t-0.4783\n",
      "\n",
      "9\t-0.9618\t-0.4809\t-0.9645\t-0.4809\t-0.4809\n",
      "\n",
      "10\t-0.9645\t-0.4822\t-0.9658\t-0.4822\t-0.4822\n",
      "\n",
      "11\t-0.9658\t-0.4829\t-0.9664\t-0.4829\t-0.4829\n",
      "\n",
      "12\t-0.9664\t-0.4832\t-0.9667\t-0.4832\t-0.4832\n",
      "\n",
      "\n",
      "Solution: x1=-0.966, x2=-0.483, x3=-0.967, x4=-0.483 and x5=-0.483  \n",
      "\n"
     ]
    }
   ],
   "source": [
    "# Gauss Seidel Iteration\n",
    "import random\n",
    "# Defining equations to be solved\n",
    "# in diagonally dominant form\n",
    "f1 = lambda x,y,z,u,v: z          # (17-y+2*z)/20\n",
    "f2 = lambda x,y,z,u,v: 0.5*z      #(-18-3*x+z)/20\n",
    "f3 = lambda x,y,z,u,v: -1.0/3.0*(-3.0*x-3.0*y+2.0*u+ v)           #(25-2*x+3*y)/20\n",
    "f4 = lambda x,y,z,u,v: -1.0*(-y)\n",
    "f5 = lambda x,y,z,u,v: -0.5*(-x)\n",
    "\n",
    "# Initial setup\n",
    "x0 = random.uniform(0.0, 2.0) # Integer from 0 to 2 inclusive\n",
    "y0 = random.uniform(0.0, 2.0)\n",
    "z0 = random.uniform(0.0, 2.0)\n",
    "u0 = random.uniform(0.0, 2.0)\n",
    "v0 = random.uniform(0.0, 2.0)\n",
    "count = 0\n",
    "\n",
    "# Reading tolerable error\n",
    "e = float(input('Enter tolerable error: '))\n",
    "\n",
    "# Implementation of Gauss Seidel Iteration\n",
    "print('\\nIter. \\tx1\\tx2\\tx3\\tx4\\tx5\\n')\n",
    "print('%d\\t%0.4f\\t%0.4f\\t%0.4f\\t%0.4f\\t%0.4f\\n' %(count,x0,y0,z0,u0,v0))\n",
    "\n",
    "count = count +1\n",
    "condition = True\n",
    "\n",
    "while condition:\n",
    "    x1 = f1(x0,y0,z0,u0,v0)\n",
    "    y1 = f2(x1,y0,z0,u0,v0)\n",
    "    z1 = f3(x1,y1,z0,u0,v0)\n",
    "    u1 = f4(x1,y1,z1,u0,v0)\n",
    "    v1 = f5(x1,y1,z1,u1,v0)\n",
    "    print('%d\\t%0.4f\\t%0.4f\\t%0.4f\\t%0.4f\\t%0.4f\\n' %(count, x1,y1,z1,u1,v1))\n",
    "    e1 = abs(x0-x1);\n",
    "    e2 = abs(y0-y1);\n",
    "    e3 = abs(z0-z1);\n",
    "    e4 = abs(u0-u1);\n",
    "    e5 = abs(v0-v1); \n",
    "    \n",
    "    count += 1\n",
    "    x0 = x1\n",
    "    y0 = y1\n",
    "    z0 = z1\n",
    "    u0 = u1\n",
    "    v0 = v1\n",
    "    \n",
    "    condition = e1>e or e2>e or e3>e or e4>e or e5>e\n",
    "\n",
    "print('\\nSolution: x1=%0.3f, x2=%0.3f, x3=%0.3f, x4=%0.3f and x5=%0.3f  \\n'% (x1,y1,z1,u1,v1))"
   ]
  },
  {
   "cell_type": "code",
   "execution_count": 3,
   "metadata": {},
   "outputs": [
    {
     "name": "stdout",
     "output_type": "stream",
     "text": [
      "\n",
      "Solution: x1=2.000, x2=1.000, x3=2.001, x4=1.000 and x5=1.000  \n",
      "\n"
     ]
    }
   ],
   "source": [
    "print('\\nSolution: x1=%0.3f, x2=%0.3f, x3=%0.3f, x4=%0.3f and x5=%0.3f  \\n'% (x1/y1,y1/y1,z1/y1,u1/y1,v1/y1))\n"
   ]
  },
  {
   "cell_type": "code",
   "execution_count": null,
   "metadata": {},
   "outputs": [],
   "source": []
  }
 ],
 "metadata": {
  "kernelspec": {
   "display_name": "Python 3",
   "language": "python",
   "name": "python3"
  },
  "language_info": {
   "codemirror_mode": {
    "name": "ipython",
    "version": 3
   },
   "file_extension": ".py",
   "mimetype": "text/x-python",
   "name": "python",
   "nbconvert_exporter": "python",
   "pygments_lexer": "ipython3",
   "version": "3.7.9"
  }
 },
 "nbformat": 4,
 "nbformat_minor": 5
}
